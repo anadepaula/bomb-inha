{
 "cells": [
  {
   "cell_type": "markdown",
   "id": "23e33077",
   "metadata": {},
   "source": [
    "## imports and settings"
   ]
  },
  {
   "cell_type": "code",
   "execution_count": null,
   "id": "fea0077d",
   "metadata": {},
   "outputs": [],
   "source": [
    "%load_ext autoreload\n",
    "%autoreload 1\n"
   ]
  },
  {
   "cell_type": "code",
   "execution_count": null,
   "id": "aa29392f",
   "metadata": {},
   "outputs": [],
   "source": [
    "import os\n",
    "os.chdir(\"./..\")"
   ]
  },
  {
   "cell_type": "code",
   "execution_count": null,
   "id": "bae56cd5",
   "metadata": {},
   "outputs": [],
   "source": [
    "import pandas as pd\n",
    "\n",
    "from src.read import read_encoded_file_content\n",
    "from src.get_quadgrams import form_quadgrams"
   ]
  },
  {
   "cell_type": "code",
   "execution_count": null,
   "id": "6c840bbc",
   "metadata": {},
   "outputs": [],
   "source": [
    "from config import QUADGRAMS_FREQUENCY_FILE_PATH"
   ]
  },
  {
   "cell_type": "markdown",
   "id": "f8d0e3d9",
   "metadata": {},
   "source": [
    "## parsing input file"
   ]
  },
  {
   "cell_type": "code",
   "execution_count": null,
   "id": "81e861fe",
   "metadata": {},
   "outputs": [],
   "source": [
    "binary_letters = read_encoded_file_content()"
   ]
  },
  {
   "cell_type": "markdown",
   "id": "7333e10a",
   "metadata": {},
   "source": [
    "## generating quadgrams"
   ]
  },
  {
   "cell_type": "code",
   "execution_count": null,
   "id": "8e9074a2",
   "metadata": {},
   "outputs": [],
   "source": [
    "binary_letters"
   ]
  },
  {
   "cell_type": "code",
   "execution_count": null,
   "id": "44784dd4",
   "metadata": {},
   "outputs": [],
   "source": [
    "binary_quadgrams = form_quadgrams(binary_letters)"
   ]
  },
  {
   "cell_type": "code",
   "execution_count": null,
   "id": "a8e774f0",
   "metadata": {},
   "outputs": [],
   "source": [
    "binary_quadgrams"
   ]
  },
  {
   "cell_type": "markdown",
   "id": "c2309a48",
   "metadata": {},
   "source": [
    "## getting frequency"
   ]
  },
  {
   "cell_type": "code",
   "execution_count": null,
   "id": "155bea52",
   "metadata": {},
   "outputs": [],
   "source": [
    "s_binary_quadgrams = pd.Series(binary_quadgrams)\n",
    "frequency_table_message = s_binary_quadgrams.value_counts().to_frame().rename(columns={\"count\": \"occurences\"})\n",
    "frequency_table_message[\"frequency\"] = s_binary_quadgrams.value_counts(normalize=True)\n",
    "frequency_table_message = frequency_table_message.reset_index().rename(columns={\"index\": \"quadgram\"})\n",
    "frequency_table_message.sort_values(by=[\"frequency\"], ascending=False, ignore_index=True, inplace=True)\n",
    "frequency_table_message"
   ]
  },
  {
   "cell_type": "code",
   "execution_count": null,
   "id": "13de239b",
   "metadata": {},
   "outputs": [],
   "source": [
    "frequency_table_reference = pd.read_csv(QUADGRAMS_FREQUENCY_FILE_PATH, sep=\" \", header=None)\n",
    "frequency_table_reference.columns = [\"quadgram\", \"occurences\"]\n",
    "frequency_table_reference[\"frequency\"] = frequency_table_reference.occurences / frequency_table_reference.occurences.sum()\n",
    "frequency_table_reference.sort_values(by=[\"frequency\"], ascending=False, ignore_index=True, inplace=True)"
   ]
  }
 ],
 "metadata": {
  "kernelspec": {
   "display_name": "3.12.2",
   "language": "python",
   "name": "python3"
  },
  "language_info": {
   "codemirror_mode": {
    "name": "ipython",
    "version": 3
   },
   "file_extension": ".py",
   "mimetype": "text/x-python",
   "name": "python",
   "nbconvert_exporter": "python",
   "pygments_lexer": "ipython3",
   "version": "3.12.2"
  }
 },
 "nbformat": 4,
 "nbformat_minor": 5
}
