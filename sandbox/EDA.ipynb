{
 "cells": [
  {
   "cell_type": "markdown",
   "id": "23e33077",
   "metadata": {},
   "source": [
    "## imports and settings"
   ]
  },
  {
   "cell_type": "code",
   "execution_count": null,
   "id": "fea0077d",
   "metadata": {},
   "outputs": [],
   "source": [
    "%load_ext autoreload\n",
    "%autoreload 1\n"
   ]
  },
  {
   "cell_type": "code",
   "execution_count": null,
   "id": "aa29392f",
   "metadata": {},
   "outputs": [],
   "source": [
    "import os\n",
    "os.chdir(\"./..\")"
   ]
  },
  {
   "cell_type": "code",
   "execution_count": null,
   "id": "bae56cd5",
   "metadata": {},
   "outputs": [],
   "source": [
    "from src.read import read_encoded_file_content"
   ]
  },
  {
   "cell_type": "markdown",
   "id": "f8d0e3d9",
   "metadata": {},
   "source": [
    "## parsing input file"
   ]
  },
  {
   "cell_type": "code",
   "execution_count": null,
   "id": "81e861fe",
   "metadata": {},
   "outputs": [],
   "source": [
    "binary_letters = read_encoded_file_content()\n",
    "binary_letters"
   ]
  },
  {
   "cell_type": "markdown",
   "id": "7333e10a",
   "metadata": {},
   "source": [
    "## quadgrams"
   ]
  },
  {
   "cell_type": "code",
   "execution_count": null,
   "id": "8e9074a2",
   "metadata": {},
   "outputs": [],
   "source": [
    "binary_letters"
   ]
  },
  {
   "cell_type": "code",
   "execution_count": null,
   "id": "97ec2d45",
   "metadata": {},
   "outputs": [],
   "source": [
    "def four_pairwise(iterable):\n",
    "    # based on itertools.pairwise\n",
    "    iterator = iter(iterable)\n",
    "\n",
    "    a = next(iterator, None)\n",
    "    b = next(iterator, None)\n",
    "    c = next(iterator, None)\n",
    "\n",
    "    for d in iterator:\n",
    "        yield a, b, c, d\n",
    "        a, b, c = b, c, d"
   ]
  },
  {
   "cell_type": "code",
   "execution_count": null,
   "id": "7e79be0a",
   "metadata": {},
   "outputs": [],
   "source": [
    "def form_quadgrams(letters):\n",
    "    quadgrams = list(four_pairwise(letters))\n",
    "   \n",
    "    assert len(quadgrams) == len(letters)-3\n",
    "\n",
    "    return quadgrams"
   ]
  },
  {
   "cell_type": "code",
   "execution_count": null,
   "id": "44784dd4",
   "metadata": {},
   "outputs": [],
   "source": [
    "binary_quadgrams = form_quadgrams(binary_letters)"
   ]
  }
 ],
 "metadata": {
  "kernelspec": {
   "display_name": "3.12.2",
   "language": "python",
   "name": "python3"
  },
  "language_info": {
   "codemirror_mode": {
    "name": "ipython",
    "version": 3
   },
   "file_extension": ".py",
   "mimetype": "text/x-python",
   "name": "python",
   "nbconvert_exporter": "python",
   "pygments_lexer": "ipython3",
   "version": "3.12.2"
  }
 },
 "nbformat": 4,
 "nbformat_minor": 5
}
