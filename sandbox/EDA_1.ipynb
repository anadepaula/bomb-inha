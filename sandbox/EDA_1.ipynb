{
 "cells": [
  {
   "metadata": {
    "ExecuteTime": {
     "end_time": "2025-11-01T02:12:30.635161Z",
     "start_time": "2025-11-01T02:12:30.627723Z"
    }
   },
   "cell_type": "code",
   "source": [
    "#!/usr/bin/env python3\n",
    "# -*- coding: utf-8 -*-\n",
    "\n",
    "import math\n",
    "import random\n",
    "import string\n",
    "from collections import Counter\n",
    "from dataclasses import dataclass\n",
    "from typing import Dict, List, Tuple"
   ],
   "id": "9ee1badf531e40a7",
   "outputs": [],
   "execution_count": 35
  },
  {
   "metadata": {
    "ExecuteTime": {
     "end_time": "2025-11-01T02:12:30.644178Z",
     "start_time": "2025-11-01T02:12:30.641183Z"
    }
   },
   "cell_type": "code",
   "source": [
    "QUADGRAMS_PATH = \"../instructions/quadgrams_frequency.txt\"\n",
    "ENCODED_PATH   = \"../instructions/encoded_content.txt\""
   ],
   "id": "f112a1ac1b3ec334",
   "outputs": [],
   "execution_count": 36
  },
  {
   "metadata": {
    "ExecuteTime": {
     "end_time": "2025-11-01T02:12:30.653097Z",
     "start_time": "2025-11-01T02:12:30.650956Z"
    }
   },
   "cell_type": "code",
   "source": [
    "ALPHABET = string.ascii_uppercase\n",
    "A2I = {c:i for i, c in enumerate(ALPHABET)}\n",
    "I2A = {i:c for i, c in enumerate(ALPHABET)}"
   ],
   "id": "c91119d7e7c0599c",
   "outputs": [],
   "execution_count": 37
  },
  {
   "cell_type": "code",
   "id": "initial_id",
   "metadata": {
    "collapsed": true,
    "ExecuteTime": {
     "end_time": "2025-11-01T02:12:30.663783Z",
     "start_time": "2025-11-01T02:12:30.658995Z"
    }
   },
   "source": [
    "# ---------------------------\n",
    "# Utilidades\n",
    "# ---------------------------\n",
    "def only_letters(text: str) -> str:\n",
    "    \"\"\"Mantém apenas letras A–Z, tudo maiúsculo.\"\"\"\n",
    "    return \"\".join(ch for ch in text.upper() if 'A' <= ch <= 'Z')\n",
    "\n",
    "\n",
    "def apply_caesar(text: str, shift: int) -> str:\n",
    "    \"\"\"Aplica cifra de César com shift (decifra quando shift é negativo).\"\"\"\n",
    "    return \"\".join(\n",
    "        I2A[(A2I[ch] - shift) % 26] for ch in text if 'A' <= ch <= 'Z'\n",
    "    )\n",
    "\n",
    "\n",
    "def apply_substitution(cipher: str, key_map: Dict[str, str]) -> str:\n",
    "    \"\"\"Aplica substituição letra a letra usando o dicionário {CIPHER→PLAIN}.\"\"\"\n",
    "    return \"\".join(\n",
    "        key_map.get(c, c) if 'A' <= c <= 'Z' else c\n",
    "        for c in cipher\n",
    "    )\n",
    "\n",
    "\n",
    "def decode_binary_file(path: str) -> str:\n",
    "    \"\"\"Lê binários (em texto) e converte para caracteres ASCII.\"\"\"\n",
    "    with open(path, \"r\", encoding=\"utf-8\") as f:\n",
    "        tokens = f.read().split()\n",
    "\n",
    "    chars = []\n",
    "    for tok in tokens:\n",
    "        try:\n",
    "            code = int(tok, 2)\n",
    "            # mantêm caracteres imprimíveis e quebra de linha\n",
    "            if code == 10:\n",
    "                chars.append('\\n')\n",
    "            elif 32 <= code <= 126 or code == 9:\n",
    "                chars.append(chr(code))\n",
    "        except ValueError:\n",
    "            continue  # ignora tokens inválidos\n",
    "    return \"\".join(chars)\n"
   ],
   "outputs": [],
   "execution_count": 38
  },
  {
   "metadata": {
    "ExecuteTime": {
     "end_time": "2025-11-01T02:12:30.673901Z",
     "start_time": "2025-11-01T02:12:30.669436Z"
    }
   },
   "cell_type": "code",
   "source": [
    "# ---------------------------\n",
    "# Pontuação por Quad-grams\n",
    "# ---------------------------\n",
    "@dataclass\n",
    "class QuadgramScorer:\n",
    "    log_probs: Dict[str, float]\n",
    "    floor: float\n",
    "\n",
    "    @classmethod\n",
    "    def from_file(cls, path: str) -> \"QuadgramScorer\":\n",
    "        counts = {}\n",
    "        total = 0\n",
    "        with open(path, \"r\", encoding=\"utf-8\") as f:\n",
    "            for line in f:\n",
    "                parts = line.strip().split()\n",
    "                if len(parts) != 2:\n",
    "                    continue\n",
    "                gram, cnt = parts[0].upper(), int(parts[1])\n",
    "                if len(gram) == 4 and all('A' <= c <= 'Z' for c in gram):\n",
    "                    counts[gram] = cnt\n",
    "                    total += cnt\n",
    "        # prob log10\n",
    "        log_probs = {g: math.log10(c/total) for g, c in counts.items()}\n",
    "        floor = math.log10(0.01/total)  # prob. muito pequena para grams ausentes\n",
    "        return cls(log_probs, floor)\n",
    "\n",
    "    def score(self, text: str) -> float:\n",
    "        t = only_letters(text)\n",
    "        if len(t) < 4:\n",
    "            return -1e9\n",
    "        s = 0.0\n",
    "        for i in range(len(t)-3):\n",
    "            g = t[i:i+4]\n",
    "            s += self.log_probs.get(g, self.floor)\n",
    "        return s"
   ],
   "id": "7c79ab523cbc4df6",
   "outputs": [],
   "execution_count": 39
  },
  {
   "metadata": {
    "ExecuteTime": {
     "end_time": "2025-11-01T02:12:30.689708Z",
     "start_time": "2025-11-01T02:12:30.686751Z"
    }
   },
   "cell_type": "code",
   "source": [
    "# ---------------------------\n",
    "# Quebra por César (força bruta)\n",
    "# ---------------------------\n",
    "def break_caesar(cipher: str, scorer: QuadgramScorer, top_k: int = 5) -> List[Tuple[int, float, str]]:\n",
    "    candidates = []\n",
    "    for shift in range(1, 26):\n",
    "        pt = apply_caesar(only_letters(cipher), shift)\n",
    "        score = scorer.score(pt)\n",
    "        candidates.append((shift, score, pt))\n",
    "    candidates.sort(key=lambda x: x[1], reverse=True)\n",
    "    return candidates[:top_k]"
   ],
   "id": "baaafa938de43e34",
   "outputs": [],
   "execution_count": 40
  },
  {
   "metadata": {
    "ExecuteTime": {
     "end_time": "2025-11-01T02:12:30.708186Z",
     "start_time": "2025-11-01T02:12:30.700400Z"
    }
   },
   "cell_type": "code",
   "source": [
    "# ---------------------------\n",
    "# Quebra por Substituição (hill-climbing + restarts) — versão simples\n",
    "# ---------------------------\n",
    "\n",
    "def random_key() -> Dict[str, str]:\n",
    "    \"\"\"Gera uma chave aleatória (permuta o alfabeto). Mapeia CIPHER->PLAIN.\"\"\"\n",
    "    perm = list(ALPHABET)\n",
    "    random.shuffle(perm)\n",
    "    return {c: p for c, p in zip(ALPHABET, perm)}\n",
    "\n",
    "\n",
    "def key_to_str(key_map: Dict[str, str]) -> str:\n",
    "    \"\"\"Converte o dicionário de chave para string de 26 letras (A..Z -> PLAIN).\"\"\"\n",
    "    return \"\".join(key_map[c] for c in ALPHABET)\n",
    "\n",
    "\n",
    "def str_to_key(s: str) -> Dict[str, str]:\n",
    "    \"\"\"Converte a string de 26 letras de volta para dicionário CIPHER->PLAIN.\"\"\"\n",
    "    return {c: p for c, p in zip(ALPHABET, s)}\n",
    "\n",
    "\n",
    "def decrypt_with_key(cipher: str, key_s: str) -> str:\n",
    "    \"\"\"Aplica a chave (string) ao texto cifrado e retorna apenas letras A..Z decifradas.\"\"\"\n",
    "    return apply_substitution(only_letters(cipher), str_to_key(key_s))\n",
    "\n",
    "\n",
    "def tweak_key(key_s: str) -> str:\n",
    "    \"\"\"Gera um vizinho trocando duas letras do mapeamento (swap simples).\"\"\"\n",
    "    i, j = random.sample(range(26), 2)\n",
    "    lst = list(key_s)\n",
    "    lst[i], lst[j] = lst[j], lst[i]\n",
    "    return \"\".join(lst)\n",
    "\n",
    "\n",
    "def frequency_seed_key(cipher: str) -> str:\n",
    "    \"\"\"Semente baseada em frequência: mapeia as letras mais comuns do CIPHER\n",
    "    para a ordem típica do inglês (ETAOIN...). É um bom chute inicial.\"\"\"\n",
    "    ENG_FREQ = \"ETAOINSHRDLCUMWFGYPBVKJXQZ\"\n",
    "\n",
    "    # ordena letras do cifrado por frequência\n",
    "    cnt = Counter(ch for ch in only_letters(cipher))\n",
    "    cipher_order = \"\".join([c for c, _ in cnt.most_common()]) + \\\n",
    "                   \"\".join(c for c in ALPHABET if c not in cnt)\n",
    "\n",
    "    # constrói destino: posição i (A=0) é a letra PLAIN para a letra i do CIPHER\n",
    "    dest = ['?'] * 26\n",
    "    for i, c in enumerate(cipher_order[:26]):\n",
    "        dest[A2I[c]] = ENG_FREQ[i]\n",
    "\n",
    "    # completa eventuais buracos (se houver)\n",
    "    rest = [c for c in ALPHABET if c not in dest]\n",
    "    for i in range(26):\n",
    "        if dest[i] == '?':\n",
    "            dest[i] = rest.pop()\n",
    "\n",
    "    return \"\".join(dest)\n",
    "\n",
    "\n",
    "def hill_climb_substitution(\n",
    "    cipher: str,\n",
    "    scorer: QuadgramScorer,\n",
    "    max_iters: int = 4000,\n",
    "    restarts: int = 30,\n",
    "    patience: int = 800\n",
    ") -> Tuple[str, float]:\n",
    "    \"\"\"Quebra substituição monoalfabética por hill-climbing com vários restarts.\n",
    "    - Começa de chaves semente (frequência + aleatórias)\n",
    "    - Faz swaps de duas letras; aceita se o score (quad-grams) melhora\n",
    "    - Se não melhora por 'patience' passos, reinicia\n",
    "    Retorna (melhor_plaintext, melhor_score).\"\"\"\n",
    "\n",
    "    best_text, best_score = \"\", -1e100\n",
    "\n",
    "    # sementes: 1 por frequência + algumas aleatórias\n",
    "    seeds: List[str] = [frequency_seed_key(cipher)]\n",
    "    for _ in range(max(1, restarts // 3)):\n",
    "        seeds.append(key_to_str(random_key()))\n",
    "\n",
    "    for _ in range(restarts):\n",
    "        key_s = random.choice(seeds)\n",
    "        plain = decrypt_with_key(cipher, key_s)\n",
    "        score = scorer.score(plain)\n",
    "\n",
    "        no_gain = 0\n",
    "        for _ in range(max_iters):\n",
    "            cand_key = tweak_key(key_s)\n",
    "            cand_plain = decrypt_with_key(cipher, cand_key)\n",
    "            cand_score = scorer.score(cand_plain)\n",
    "\n",
    "            if cand_score > score:\n",
    "                key_s, plain, score = cand_key, cand_plain, cand_score\n",
    "                no_gain = 0\n",
    "            else:\n",
    "                no_gain += 1\n",
    "                if no_gain >= patience:  # estagnou -> parte para outro restart\n",
    "                    break\n",
    "\n",
    "        if score > best_score:\n",
    "            best_text, best_score = plain, score\n",
    "\n",
    "    return best_text, best_score\n"
   ],
   "id": "741c37c2722ede5f",
   "outputs": [],
   "execution_count": 41
  },
  {
   "metadata": {},
   "cell_type": "markdown",
   "source": "## Heurística de decisão e main",
   "id": "1df199a54db19edd"
  },
  {
   "metadata": {
    "ExecuteTime": {
     "end_time": "2025-11-01T02:16:42.869026Z",
     "start_time": "2025-11-01T02:16:42.860297Z"
    }
   },
   "cell_type": "code",
   "source": [
    "# ---------------------------\n",
    "# Heurística de decisão e main\n",
    "# ---------------------------\n",
    "\n",
    "def likely_caesar_gain(score_caesar: float, score_sub: float, margem: float = 10.0) -> bool:\n",
    "    \"\"\"Decide por César se o melhor score de César não estiver muito pior que o de Substituição.\n",
    "    'margem' é um colchão empírico (em log10). Quanto menor, mais exigente.\"\"\"\n",
    "    return score_caesar > (score_sub - margem)\n",
    "\n",
    "\n",
    "def chunk_text(t: str, width: int = 80) -> str:\n",
    "    \"\"\"Quebra o texto em linhas legíveis no terminal.\"\"\"\n",
    "    return \"\\n\".join(t[i:i+width] for i in range(0, len(t), width))\n",
    "\n",
    "\n",
    "def main():\n",
    "    # 1) Carrega os quad-grams (tabela de frequências p/ pontuar “quão inglês” é um texto)\n",
    "    print(\"[1/4] Carregando quad-grams…\")\n",
    "    scorer = QuadgramScorer.from_file(QUADGRAMS_PATH)\n",
    "\n",
    "    # 2) Lê o arquivo binário e converte para ASCII (ainda cifrado)\n",
    "    print(\"[2/4] Lendo e decodificando binário…\")\n",
    "    raw = decode_binary_file(ENCODED_PATH)\n",
    "    print(\"Prévia (120 chars):\", raw[:120].replace(\"\\n\", \"\\\\n\"))\n",
    "\n",
    "    # Só letras A–Z (remove pontuação/espaços p/ pontuar por quad-grams)\n",
    "    cipher_only = only_letters(raw)\n",
    "    print(f\"Tamanho (A–Z): {len(cipher_only)}\")\n",
    "\n",
    "    # 3) Teste rápido de César (força bruta nos 25 shifts)\n",
    "    print(\"\\n[3/4] Tentando César…\")\n",
    "    top = break_caesar(raw, scorer, top_k=5)\n",
    "\n",
    "    # mostra as 5 melhores tentativas com preview\n",
    "    for rank, (shift, score, pt) in enumerate(top, 1):\n",
    "        preview = pt[:70]\n",
    "        print(f\" {rank:>2}. shift={shift:2d} | score={score:10.2f} | {preview}…\")\n",
    "\n",
    "    caesar_best_shift, caesar_best_score, caesar_best_text = top[0]\n",
    "    print(f\"\\nMelhor César: shift={caesar_best_shift} | score={caesar_best_score:.2f}\")\n",
    "\n",
    "    # 4) Substituição (hill-climbing com restarts). Parâmetros modestos e legíveis.\n",
    "    print(\"\\n[4/4] Tentando Substituição (hill-climb + restarts)…\")\n",
    "    sub_text, sub_score = hill_climb_substitution(\n",
    "        raw, scorer,\n",
    "        max_iters=3000,   # iterações por restart\n",
    "        restarts=40,      # quantos recomeços\n",
    "        patience=800      # para quando não melhora\n",
    "    )\n",
    "    print(f\"Melhor Substituição: score={sub_score:.2f}\")\n",
    "    print(\"Preview:\", sub_text[:70], \"…\")\n",
    "\n",
    "    # Decisão final: escolhe o método com melhor score (com margem)\n",
    "    print(\"\\n>>> Resultado escolhido:\")\n",
    "    if likely_caesar_gain(caesar_best_score, sub_score, margem=10.0):\n",
    "        print(\"CÉSAR\")\n",
    "        print(f\"Shift = {caesar_best_shift}\\n\")\n",
    "        print(chunk_text(caesar_best_text))\n",
    "    else:\n",
    "        print(\"SUBSTITUIÇÃO\\n\")\n",
    "        print(chunk_text(sub_text))\n"
   ],
   "id": "14bab6c274a94547",
   "outputs": [],
   "execution_count": 44
  },
  {
   "metadata": {
    "ExecuteTime": {
     "end_time": "2025-11-01T02:17:05.212409Z",
     "start_time": "2025-11-01T02:16:44.420859Z"
    }
   },
   "cell_type": "code",
   "source": [
    "if __name__ == \"__main__\":\n",
    "    random.seed(42)  # reprodutibilidade básica\n",
    "    main()"
   ],
   "id": "46ef9847a8df77c9",
   "outputs": [
    {
     "name": "stdout",
     "output_type": "stream",
     "text": [
      "[1/4] Carregando quad-grams…\n",
      "[2/4] Lendo e decodificando binário…\n",
      "Prévia (120 chars): VCO ATD HO SOTMO VCO OPJKWITVNWZ WG VCO SWMQWM NM VCO ATD HO VCIOTVOZ VCO SWZVNZUNZR WG WUI MJOSNOM NZ VCTV XKOTY HWIKA \n",
      "Tamanho (A–Z): 370\n",
      "\n",
      "[3/4] Tentando César…\n",
      "  1. shift=21 | score=  -2620.58 | AHTFYIMTXTYRTAHTTUOPBNYASBEBLAHTXBRVBRSRAHTFYIMTAHNTYATEAHTXBEASEZSEWB…\n",
      "  2. shift= 8 | score=  -2667.18 | NUGSLVZGKGLEGNUGGHBCOALNFOROYNUGKOEIOEFENUGSLVZGNUAGLNGRNUGKORNFRMFRJO…\n",
      "  3. shift=14 | score=  -2706.91 | HOAMFPTAEAFYAHOAABVWIUFHZILISHOAEIYCIYZYHOAMFPTAHOUAFHALHOAEILHZLGZLDI…\n",
      "  4. shift= 6 | score=  -2805.13 | PWIUNXBIMINGIPWIIJDEQCNPHQTQAPWIMQGKQGHGPWIUNXBIPWCINPITPWIMQTPHTOHTLQ…\n",
      "  5. shift=10 | score=  -2806.51 | LSEQJTXEIEJCELSEEFZAMYJLDMPMWLSEIMCGMCDCLSEQJTXELSYEJLEPLSEIMPLDPKDPHM…\n",
      "\n",
      "Melhor César: shift=21 | score=-2620.58\n",
      "\n",
      "[4/4] Tentando Substituição (hill-climb + restarts)…\n",
      "Melhor Substituição: score=-1526.76\n",
      "Preview: THEDAYWECEASETHEEXPLORATIONOFTHECOSMOSISTHEDAYWETHREATENTHECONTINUINGO …\n",
      "\n",
      ">>> Resultado escolhido:\n",
      "SUBSTITUIÇÃO\n",
      "\n",
      "THEDAYWECEASETHEEXPLORATIONOFTHECOSMOSISTHEDAYWETHREATENTHECONTINUINGOFOURSPECIE\n",
      "SINTHATBLEAKWORLDARMSBEARINGRESOURCEHUNGRYPEOPLEANDNATIONSWOULDBEPRONETOACTONTHE\n",
      "IRLOWCONTRACTEDPREJUDICESANDWOULDHAVESEENTHELASTGASPOFHUMANENLIGHTENMENTUNTILTHE\n",
      "RISEOFAVISIONARYNEWCULTURETHATONCEAGAINEMBRACESTHECOSMICPERSPECTIVEAPERSPECTIVEI\n",
      "NWHICHWEAREONEFITTINGNEITHERABOVENORBELOWBUTWITHIN\n"
     ]
    }
   ],
   "execution_count": 45
  },
  {
   "metadata": {
    "ExecuteTime": {
     "end_time": "2025-11-01T02:12:51.330597Z",
     "start_time": "2025-11-01T02:12:51.329115Z"
    }
   },
   "cell_type": "code",
   "source": "",
   "id": "1897c54ad2368622",
   "outputs": [],
   "execution_count": null
  }
 ],
 "metadata": {
  "kernelspec": {
   "display_name": "Python 3",
   "language": "python",
   "name": "python3"
  },
  "language_info": {
   "codemirror_mode": {
    "name": "ipython",
    "version": 2
   },
   "file_extension": ".py",
   "mimetype": "text/x-python",
   "name": "python",
   "nbconvert_exporter": "python",
   "pygments_lexer": "ipython2",
   "version": "2.7.6"
  }
 },
 "nbformat": 4,
 "nbformat_minor": 5
}
